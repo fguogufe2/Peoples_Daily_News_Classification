{
 "cells": [
  {
   "cell_type": "code",
   "execution_count": 1,
   "metadata": {},
   "outputs": [
    {
     "name": "stderr",
     "output_type": "stream",
     "text": [
      "/opt/anaconda3/envs/lac/lib/python3.8/site-packages/paddle/fluid/layers/utils.py:26: DeprecationWarning: `np.int` is a deprecated alias for the builtin `int`. To silence this warning, use `int` by itself. Doing this will not modify any behavior and is safe. When replacing `np.int`, you may wish to use e.g. `np.int64` or `np.int32` to specify the precision. If you wish to review your current use, check the release note link for additional information.\n",
      "Deprecated in NumPy 1.20; for more details and guidance: https://numpy.org/devdocs/release/1.20.0-notes.html#deprecations\n",
      "  def convert_to_list(value, n, name, dtype=np.int):\n"
     ]
    }
   ],
   "source": [
    "import os\n",
    "from LAC import LAC\n",
    "lac = LAC(mode='seg')\n",
    "import re\n",
    "import shutil\n",
    "from sklearn.naive_bayes import MultinomialNB\n",
    "from sklearn import metrics\n",
    "from sklearn.feature_extraction.text import CountVectorizer\n",
    "import pandas as pd\n",
    "import numpy as np"
   ]
  },
  {
   "cell_type": "code",
   "execution_count": 2,
   "metadata": {},
   "outputs": [
    {
     "name": "stderr",
     "output_type": "stream",
     "text": [
      "/opt/anaconda3/envs/lac/lib/python3.8/site-packages/ipykernel/ipkernel.py:287: DeprecationWarning: `should_run_async` will not call `transform_cell` automatically in the future. Please pass the result to `transformed_cell` argument and any exception that happen during thetransform in `preprocessing_exc_tuple` in IPython 7.17 and above.\n",
      "  and should_run_async(code)\n"
     ]
    }
   ],
   "source": [
    "# loading file paths\n",
    "fp_train = 'Fudan/train'\n",
    "fp_test ='Fudan/answer'\n",
    "fp_target_63 ='targetdata/year1963'\n",
    "fp_target_90 ='targetdata/year1990'"
   ]
  },
  {
   "cell_type": "markdown",
   "metadata": {},
   "source": [
    "Step One: construct functions needed for data preprocessing"
   ]
  },
  {
   "cell_type": "code",
   "execution_count": 3,
   "metadata": {},
   "outputs": [],
   "source": [
    "# define needed functions\n",
    "\n",
    "# This function will delete the characters of '【' , '】', and '\\n' in the Chinese text\n",
    "# the input is a list of lists\n",
    "def clean_text(file_readlines):\n",
    "    _special_symbles = {ord('【'): None, ord('】'): None, ord('\\n'): None, ord('＊'):None}\n",
    "    _temp = [i.translate(_special_symbles) for i in file_readlines]\n",
    "    return [i.strip() for i in _temp]\n",
    "\n",
    "\n",
    "# this function will segment one single Chinese document and same it as one string in a list\n",
    "def seg_chinese(fp):\n",
    "\n",
    "    try:\n",
    "        with open(fp, 'r') as fh:\n",
    "            _text = fh.readlines()\n",
    "\n",
    "            _text = lac.run(clean_text(_text))\n",
    "            result = ' '.join([e for i in _text for e in i])\n",
    "    except IOError:\n",
    "        result = fp\n",
    "\n",
    "    return result\n",
    "\n",
    "#  this funciton will produce a dictionary with file path as keys, tag as values\n",
    "def dir_tag_pair(directory):\n",
    "\n",
    "    files = os.listdir(directory)\n",
    "    return {os.path.join(directory,i):re.split('-',i)[1]\n",
    "            for i in files if i.startswith('C')}\n",
    "\n",
    "\n",
    "# the function will take the output of function dir_tag_pair as input, and produce two\n",
    "# lists. One is a list of strings, each is one segmented Chinese document. Anther is a\n",
    "# list of corresponding tags.\n",
    "def process_sub_directory(directory, tag):\n",
    "\n",
    "    files= os.listdir(directory)\n",
    "\n",
    "    texts = []\n",
    "    tags = []\n",
    "\n",
    "    for file in files:\n",
    "        if file.endswith('txt'):\n",
    "            texts.append(seg_chinese(os.path.join(directory,file)))\n",
    "            tags.append(tag)\n",
    "\n",
    "    return texts, tags\n",
    "\n",
    "# This function will output two lists, one consists of a list of documents, another of all tags.\n",
    "# the input is the file path. The output are intended for the inputs of CounterVecterizer\n",
    "def process_directory(directory):\n",
    "\n",
    "    alltextdata = []\n",
    "    alltag=[]\n",
    "\n",
    "    _tempd =dir_tag_pair(directory)\n",
    "    for k in _tempd.keys():\n",
    "        _text, _tag = process_sub_directory(k,_tempd[k])\n",
    "        alltextdata.extend(_text)\n",
    "        alltag.extend(_tag)\n",
    "\n",
    "    return alltextdata, alltag"
   ]
  },
  {
   "cell_type": "markdown",
   "metadata": {},
   "source": [
    "Step Two Train the Model"
   ]
  },
  {
   "cell_type": "code",
   "execution_count": null,
   "metadata": {},
   "outputs": [],
   "source": [
    "#  preprocessing the train data\n",
    "alltextdata, y_train =process_directory(fp_train)"
   ]
  },
  {
   "cell_type": "code",
   "execution_count": 72,
   "metadata": {},
   "outputs": [
    {
     "data": {
      "text/plain": [
       "MultinomialNB()"
      ]
     },
     "execution_count": 72,
     "metadata": {},
     "output_type": "execute_result"
    }
   ],
   "source": [
    "# turn train data into vectors and use them to train the model\n",
    "vectorizer = CountVectorizer()\n",
    "model = MultinomialNB()\n",
    "x_train = vectorizer.fit_transform(alltextdata)\n",
    "model.fit(x_train, y_train)"
   ]
  },
  {
   "cell_type": "markdown",
   "metadata": {},
   "source": [
    "Step Three 1) test the model"
   ]
  },
  {
   "cell_type": "code",
   "execution_count": 73,
   "metadata": {},
   "outputs": [
    {
     "name": "stderr",
     "output_type": "stream",
     "text": [
      "/opt/anaconda3/envs/lac/lib/python3.8/site-packages/ipykernel/ipkernel.py:287: DeprecationWarning: `should_run_async` will not call `transform_cell` automatically in the future. Please pass the result to `transformed_cell` argument and any exception that happen during thetransform in `preprocessing_exc_tuple` in IPython 7.17 and above.\n",
      "  and should_run_async(code)\n"
     ]
    }
   ],
   "source": [
    "# process the test data\n",
    "test_alltextdata, y_test = process_directory(fp_test)"
   ]
  },
  {
   "cell_type": "code",
   "execution_count": 74,
   "metadata": {},
   "outputs": [],
   "source": [
    "# turn the test data into vectors and use them to test the model\n",
    "x_text = vectorizer.transform(test_alltextdata)\n",
    "y_hat = model.predict(x_text)"
   ]
  },
  {
   "cell_type": "markdown",
   "metadata": {},
   "source": [
    "Step Three 2) report metrics"
   ]
  },
  {
   "cell_type": "code",
   "execution_count": 162,
   "metadata": {},
   "outputs": [
    {
     "name": "stdout",
     "output_type": "stream",
     "text": [
      "accuracy: 0.8564019119292179\n"
     ]
    },
    {
     "name": "stderr",
     "output_type": "stream",
     "text": [
      "/opt/anaconda3/envs/lac/lib/python3.8/site-packages/ipykernel/ipkernel.py:287: DeprecationWarning: `should_run_async` will not call `transform_cell` automatically in the future. Please pass the result to `transformed_cell` argument and any exception that happen during thetransform in `preprocessing_exc_tuple` in IPython 7.17 and above.\n",
      "  and should_run_async(code)\n"
     ]
    }
   ],
   "source": [
    "print('accuracy:', metrics.accuracy_score(y_test, y_hat))"
   ]
  },
  {
   "cell_type": "code",
   "execution_count": 79,
   "metadata": {},
   "outputs": [
    {
     "name": "stdout",
     "output_type": "stream",
     "text": [
      "               precision    recall  f1-score   support\n",
      "\n",
      "  Agriculture       0.86      0.88      0.87      1022\n",
      "          Art       0.79      0.95      0.86       742\n",
      "Communication       1.00      0.04      0.07        27\n",
      "     Computer       0.93      0.96      0.95      1358\n",
      "      Economy       0.82      0.93      0.87      1601\n",
      "    Education       0.00      0.00      0.00        61\n",
      "  Electronics       0.00      0.00      0.00        28\n",
      "       Energy       0.00      0.00      0.00        33\n",
      "  Enviornment       0.93      0.89      0.91      1218\n",
      "      History       0.75      0.57      0.65       468\n",
      "          Law       0.00      0.00      0.00        52\n",
      "   Literature       0.00      0.00      0.00        34\n",
      "      Medical       0.00      0.00      0.00        53\n",
      "     Military       0.00      0.00      0.00        76\n",
      "         Mine       0.00      0.00      0.00        34\n",
      "   Philosophy       0.00      0.00      0.00        45\n",
      "     Politics       0.80      0.94      0.86      1026\n",
      "        Space       0.94      0.82      0.88       642\n",
      "       Sports       0.85      0.94      0.89      1254\n",
      "    Transport       0.00      0.00      0.00        59\n",
      "\n",
      "     accuracy                           0.86      9833\n",
      "    macro avg       0.43      0.40      0.39      9833\n",
      " weighted avg       0.82      0.86      0.83      9833\n",
      "\n"
     ]
    },
    {
     "name": "stderr",
     "output_type": "stream",
     "text": [
      "/opt/anaconda3/envs/lac/lib/python3.8/site-packages/ipykernel/ipkernel.py:287: DeprecationWarning: `should_run_async` will not call `transform_cell` automatically in the future. Please pass the result to `transformed_cell` argument and any exception that happen during thetransform in `preprocessing_exc_tuple` in IPython 7.17 and above.\n",
      "  and should_run_async(code)\n",
      "/opt/anaconda3/envs/lac/lib/python3.8/site-packages/sklearn/metrics/_classification.py:1245: UndefinedMetricWarning: Precision and F-score are ill-defined and being set to 0.0 in labels with no predicted samples. Use `zero_division` parameter to control this behavior.\n",
      "  _warn_prf(average, modifier, msg_start, len(result))\n",
      "/opt/anaconda3/envs/lac/lib/python3.8/site-packages/sklearn/metrics/_classification.py:1245: UndefinedMetricWarning: Precision and F-score are ill-defined and being set to 0.0 in labels with no predicted samples. Use `zero_division` parameter to control this behavior.\n",
      "  _warn_prf(average, modifier, msg_start, len(result))\n",
      "/opt/anaconda3/envs/lac/lib/python3.8/site-packages/sklearn/metrics/_classification.py:1245: UndefinedMetricWarning: Precision and F-score are ill-defined and being set to 0.0 in labels with no predicted samples. Use `zero_division` parameter to control this behavior.\n",
      "  _warn_prf(average, modifier, msg_start, len(result))\n"
     ]
    }
   ],
   "source": [
    "print(metrics.classification_report(y_test, y_hat))"
   ]
  },
  {
   "cell_type": "markdown",
   "metadata": {},
   "source": [
    "Step Four Manually Accessing the External Validity of the Model"
   ]
  },
  {
   "cell_type": "code",
   "execution_count": null,
   "metadata": {},
   "outputs": [],
   "source": [
    "# Define functions needed to process the target data(People's Daily Newspaper text in 1963 and 1990)\n",
    "def processing_target_data(fp):\n",
    "    _result = []\n",
    "    for i in os.listdir(fp):\n",
    "        if i.endswith('md'):\n",
    "            with open(os.path.join(fp,i)) as fh:\n",
    "                raw_a = fh.readlines()\n",
    "\n",
    "                article = [sent.strip() for sent in raw_a[6:]]\n",
    "                article = [e.replace('\\u3000', '，') for e in article]\n",
    "                pair = (raw_a[0], article)\n",
    "                _result.append(pair)\n",
    "    return _result\n",
    "\n",
    "def segment_target_data(the_tuple):\n",
    "    _result =[]\n",
    "    for i in the_tuple:\n",
    "        _text= lac.run(i[1])\n",
    "        segmented_text=' '.join([item for l in _text for item in l])\n",
    "\n",
    "        pair = (i[0], [segmented_text])\n",
    "        _result.append(pair)\n",
    "\n",
    "    return pd.DataFrame.from_records(_result, columns=['title','text'])\n",
    "\n",
    "\n",
    "def predict_label(x):\n",
    "    x_train = vectorizer.transform(x)\n",
    "    return model.predict(x_train)[0]"
   ]
  },
  {
   "cell_type": "code",
   "execution_count": 111,
   "metadata": {},
   "outputs": [],
   "source": [
    "# preprocessing the target data and apply the model on the data to predict labels\n",
    "# two dataframes will be produced, corresponding to 1963 dataset and 1990 dataset respectively.\n",
    "# The dataframe has three columns, corresponding to the title, document text, and predicted label.\n",
    "target_63 = processing_target_data(fp_target_63)\n",
    "df = segment_target_data(target_63)\n",
    "df63['predicted_label'] = df63['text'].apply(lambda x: predict_label(x))\n",
    "target_90 = processing_target_data(fp_target_90)\n",
    "df90 = segment_target_data(target_90)\n",
    "df90['predicted_label'] = df90['text'].apply(lambda x: predict_label(x))"
   ]
  },
  {
   "cell_type": "markdown",
   "metadata": {},
   "source": [
    "Random selecting 30 samples from each dataset."
   ]
  },
  {
   "cell_type": "code",
   "execution_count": 145,
   "metadata": {},
   "outputs": [
    {
     "name": "stderr",
     "output_type": "stream",
     "text": [
      "/opt/anaconda3/envs/lac/lib/python3.8/site-packages/ipykernel/ipkernel.py:287: DeprecationWarning: `should_run_async` will not call `transform_cell` automatically in the future. Please pass the result to `transformed_cell` argument and any exception that happen during thetransform in `preprocessing_exc_tuple` in IPython 7.17 and above.\n",
      "  and should_run_async(code)\n"
     ]
    }
   ],
   "source": [
    "df63_sample = df63.iloc[np.random.choice(len(df63), 30)]\n",
    "df90_sample = df90.iloc[np.random.choice(len(df90), 30)]\n",
    "# I forgot to set the seed... np.random.seed()"
   ]
  },
  {
   "cell_type": "markdown",
   "metadata": {},
   "source": [
    "save the samples into two csv files"
   ]
  },
  {
   "cell_type": "code",
   "execution_count": null,
   "metadata": {},
   "outputs": [],
   "source": [
    "df63_sample.to_csv('df63_sample.csv')\n",
    "df90_sample.to_csv('df90_sample.csv')"
   ]
  },
  {
   "cell_type": "markdown",
   "metadata": {},
   "source": [
    "Manually inspect the samples and assign a human determined label to each sample, and save them into two dataframes. The two new dataframes have same four column names: title, text, predicted label, true label"
   ]
  },
  {
   "cell_type": "code",
   "execution_count": 154,
   "metadata": {},
   "outputs": [],
   "source": [
    "predicted_labels_63 = pd.read_csv('df63_sample_tcsv.csv', index_col =0)['predicted_label'].tolist()\n",
    "true_labels_63 =pd.read_csv('df63_sample_tcsv.csv', index_col =0)['true_label'].tolist()\n",
    "predicted_labels_90 = pd.read_csv('df90_sample_tcsv.csv', index_col =0)['predicted_label'].tolist()\n",
    "true_labels_90 =pd.read_csv('df90_sample_tcsv.csv', index_col =0)['True_label'].tolist()"
   ]
  },
  {
   "cell_type": "markdown",
   "metadata": {},
   "source": [
    "compare the model predicted labels and human determined ones, and print out the accuracy metrics."
   ]
  },
  {
   "cell_type": "code",
   "execution_count": 160,
   "metadata": {},
   "outputs": [
    {
     "name": "stdout",
     "output_type": "stream",
     "text": [
      "0.7333333333333333\n",
      "              precision    recall  f1-score   support\n",
      "\n",
      " Agriculture       0.67      1.00      0.80         4\n",
      "         Art       1.00      1.00      1.00         3\n",
      "     Economy       0.00      0.00      0.00         2\n",
      " Enviornment       1.00      1.00      1.00         1\n",
      "     History       0.00      0.00      0.00         0\n",
      "     Medical       0.00      0.00      0.00         1\n",
      "    Military       0.00      0.00      0.00         1\n",
      "    Politics       1.00      0.78      0.88        18\n",
      "      Sports       0.00      0.00      0.00         0\n",
      "\n",
      "    accuracy                           0.73        30\n",
      "   macro avg       0.41      0.42      0.41        30\n",
      "weighted avg       0.82      0.73      0.77        30\n",
      "\n"
     ]
    },
    {
     "name": "stderr",
     "output_type": "stream",
     "text": [
      "/opt/anaconda3/envs/lac/lib/python3.8/site-packages/ipykernel/ipkernel.py:287: DeprecationWarning: `should_run_async` will not call `transform_cell` automatically in the future. Please pass the result to `transformed_cell` argument and any exception that happen during thetransform in `preprocessing_exc_tuple` in IPython 7.17 and above.\n",
      "  and should_run_async(code)\n",
      "/opt/anaconda3/envs/lac/lib/python3.8/site-packages/sklearn/metrics/_classification.py:1245: UndefinedMetricWarning: Precision and F-score are ill-defined and being set to 0.0 in labels with no predicted samples. Use `zero_division` parameter to control this behavior.\n",
      "  _warn_prf(average, modifier, msg_start, len(result))\n",
      "/opt/anaconda3/envs/lac/lib/python3.8/site-packages/sklearn/metrics/_classification.py:1245: UndefinedMetricWarning: Recall and F-score are ill-defined and being set to 0.0 in labels with no true samples. Use `zero_division` parameter to control this behavior.\n",
      "  _warn_prf(average, modifier, msg_start, len(result))\n",
      "/opt/anaconda3/envs/lac/lib/python3.8/site-packages/sklearn/metrics/_classification.py:1245: UndefinedMetricWarning: Precision and F-score are ill-defined and being set to 0.0 in labels with no predicted samples. Use `zero_division` parameter to control this behavior.\n",
      "  _warn_prf(average, modifier, msg_start, len(result))\n",
      "/opt/anaconda3/envs/lac/lib/python3.8/site-packages/sklearn/metrics/_classification.py:1245: UndefinedMetricWarning: Recall and F-score are ill-defined and being set to 0.0 in labels with no true samples. Use `zero_division` parameter to control this behavior.\n",
      "  _warn_prf(average, modifier, msg_start, len(result))\n",
      "/opt/anaconda3/envs/lac/lib/python3.8/site-packages/sklearn/metrics/_classification.py:1245: UndefinedMetricWarning: Precision and F-score are ill-defined and being set to 0.0 in labels with no predicted samples. Use `zero_division` parameter to control this behavior.\n",
      "  _warn_prf(average, modifier, msg_start, len(result))\n",
      "/opt/anaconda3/envs/lac/lib/python3.8/site-packages/sklearn/metrics/_classification.py:1245: UndefinedMetricWarning: Recall and F-score are ill-defined and being set to 0.0 in labels with no true samples. Use `zero_division` parameter to control this behavior.\n",
      "  _warn_prf(average, modifier, msg_start, len(result))\n"
     ]
    }
   ],
   "source": [
    "print(metrics.accuracy_score(true_labels_63, predicted_labels_63))\n",
    "print(metrics.classification_report(true_labels_63, predicted_labels_63))"
   ]
  },
  {
   "cell_type": "code",
   "execution_count": 163,
   "metadata": {},
   "outputs": [
    {
     "name": "stdout",
     "output_type": "stream",
     "text": [
      "0.6666666666666666\n",
      "              precision    recall  f1-score   support\n",
      "\n",
      " Agriculture       0.33      1.00      0.50         1\n",
      "         Art       1.00      0.33      0.50         3\n",
      "     Economy       0.80      0.50      0.62         8\n",
      "     History       0.00      0.00      0.00         0\n",
      "    Politics       1.00      0.91      0.95        11\n",
      "       Space       0.00      0.00      0.00         0\n",
      "       Sport       0.00      0.00      0.00         2\n",
      "      Sports       0.50      1.00      0.67         4\n",
      "   Transport       0.00      0.00      0.00         1\n",
      "\n",
      "    accuracy                           0.67        30\n",
      "   macro avg       0.40      0.42      0.36        30\n",
      "weighted avg       0.76      0.67      0.67        30\n",
      "\n"
     ]
    },
    {
     "name": "stderr",
     "output_type": "stream",
     "text": [
      "/opt/anaconda3/envs/lac/lib/python3.8/site-packages/ipykernel/ipkernel.py:287: DeprecationWarning: `should_run_async` will not call `transform_cell` automatically in the future. Please pass the result to `transformed_cell` argument and any exception that happen during thetransform in `preprocessing_exc_tuple` in IPython 7.17 and above.\n",
      "  and should_run_async(code)\n",
      "/opt/anaconda3/envs/lac/lib/python3.8/site-packages/sklearn/metrics/_classification.py:1245: UndefinedMetricWarning: Precision and F-score are ill-defined and being set to 0.0 in labels with no predicted samples. Use `zero_division` parameter to control this behavior.\n",
      "  _warn_prf(average, modifier, msg_start, len(result))\n",
      "/opt/anaconda3/envs/lac/lib/python3.8/site-packages/sklearn/metrics/_classification.py:1245: UndefinedMetricWarning: Recall and F-score are ill-defined and being set to 0.0 in labels with no true samples. Use `zero_division` parameter to control this behavior.\n",
      "  _warn_prf(average, modifier, msg_start, len(result))\n",
      "/opt/anaconda3/envs/lac/lib/python3.8/site-packages/sklearn/metrics/_classification.py:1245: UndefinedMetricWarning: Precision and F-score are ill-defined and being set to 0.0 in labels with no predicted samples. Use `zero_division` parameter to control this behavior.\n",
      "  _warn_prf(average, modifier, msg_start, len(result))\n",
      "/opt/anaconda3/envs/lac/lib/python3.8/site-packages/sklearn/metrics/_classification.py:1245: UndefinedMetricWarning: Recall and F-score are ill-defined and being set to 0.0 in labels with no true samples. Use `zero_division` parameter to control this behavior.\n",
      "  _warn_prf(average, modifier, msg_start, len(result))\n",
      "/opt/anaconda3/envs/lac/lib/python3.8/site-packages/sklearn/metrics/_classification.py:1245: UndefinedMetricWarning: Precision and F-score are ill-defined and being set to 0.0 in labels with no predicted samples. Use `zero_division` parameter to control this behavior.\n",
      "  _warn_prf(average, modifier, msg_start, len(result))\n",
      "/opt/anaconda3/envs/lac/lib/python3.8/site-packages/sklearn/metrics/_classification.py:1245: UndefinedMetricWarning: Recall and F-score are ill-defined and being set to 0.0 in labels with no true samples. Use `zero_division` parameter to control this behavior.\n",
      "  _warn_prf(average, modifier, msg_start, len(result))\n"
     ]
    }
   ],
   "source": [
    "print(metrics.accuracy_score(true_labels_90, predicted_labels_90))\n",
    "print(metrics.classification_report(true_labels_90, predicted_labels_90))"
   ]
  },
  {
   "cell_type": "code",
   "execution_count": null,
   "metadata": {},
   "outputs": [],
   "source": []
  }
 ],
 "metadata": {
  "kernelspec": {
   "display_name": "Python 3",
   "language": "python",
   "name": "python3"
  },
  "language_info": {
   "codemirror_mode": {
    "name": "ipython",
    "version": 3
   },
   "file_extension": ".py",
   "mimetype": "text/x-python",
   "name": "python",
   "nbconvert_exporter": "python",
   "pygments_lexer": "ipython3",
   "version": "3.8.5"
  }
 },
 "nbformat": 4,
 "nbformat_minor": 4
}
